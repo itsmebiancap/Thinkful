{
 "cells": [
  {
   "cell_type": "markdown",
   "metadata": {},
   "source": [
    "# Most Trending YouTube Videos in Canada"
   ]
  },
  {
   "cell_type": "code",
   "execution_count": 40,
   "metadata": {
    "collapsed": true
   },
   "outputs": [],
   "source": [
    "import pandas as pd\n",
    "import matplotlib.pyplot as plt\n",
    "from IPython.display import display, Image, YouTubeVideo, HTML\n",
    "%matplotlib inline \n",
    "import json\n",
    "import seaborn as sns\n",
    "import requests\n",
    "from ipywidgets import Image\n",
    "try:\n",
    "    from StringIO import StringIO\n",
    "except ImportError:\n",
    "    from io import StringIO"
   ]
  },
  {
   "cell_type": "markdown",
   "metadata": {},
   "source": [
    "<img src=\"https://www.9thco.com/sites/default/files/9thCO_insights_new_images/64_canadianyoutube.png\">"
   ]
  },
  {
   "cell_type": "markdown",
   "metadata": {},
   "source": [
    "##### Data source: https://www.kaggle.com/datasnaek/youtube-new/data"
   ]
  },
  {
   "cell_type": "markdown",
   "metadata": {},
   "source": [
    "### Research questions to be answered:\n",
    "1. Trending options:\n",
    "    - per peoples interests by category, views, dis/likes, comments and tags\n",
    "    - text analysis of titles of videos vs. common trends / keywords\n",
    "2. Text Analysis of tags versus comments."
   ]
  },
  {
   "cell_type": "code",
   "execution_count": 41,
   "metadata": {
    "collapsed": true
   },
   "outputs": [],
   "source": [
    "df=pd.read_csv('Data/CAvideos.csv')"
   ]
  },
  {
   "cell_type": "code",
   "execution_count": 42,
   "metadata": {},
   "outputs": [
    {
     "data": {
      "text/html": [
       "<div>\n",
       "<style>\n",
       "    .dataframe thead tr:only-child th {\n",
       "        text-align: right;\n",
       "    }\n",
       "\n",
       "    .dataframe thead th {\n",
       "        text-align: left;\n",
       "    }\n",
       "\n",
       "    .dataframe tbody tr th {\n",
       "        vertical-align: top;\n",
       "    }\n",
       "</style>\n",
       "<table border=\"1\" class=\"dataframe\">\n",
       "  <thead>\n",
       "    <tr style=\"text-align: right;\">\n",
       "      <th></th>\n",
       "      <th>video_id</th>\n",
       "      <th>trending_date</th>\n",
       "      <th>title</th>\n",
       "      <th>channel_title</th>\n",
       "      <th>category_id</th>\n",
       "      <th>publish_time</th>\n",
       "      <th>tags</th>\n",
       "      <th>views</th>\n",
       "      <th>likes</th>\n",
       "      <th>dislikes</th>\n",
       "      <th>comment_count</th>\n",
       "      <th>thumbnail_link</th>\n",
       "      <th>comments_disabled</th>\n",
       "      <th>ratings_disabled</th>\n",
       "      <th>video_error_or_removed</th>\n",
       "      <th>description</th>\n",
       "    </tr>\n",
       "  </thead>\n",
       "  <tbody>\n",
       "    <tr>\n",
       "      <th>0</th>\n",
       "      <td>n1WpP7iowLc</td>\n",
       "      <td>17.14.11</td>\n",
       "      <td>Eminem - Walk On Water (Audio) ft. Beyoncé</td>\n",
       "      <td>EminemVEVO</td>\n",
       "      <td>10</td>\n",
       "      <td>2017-11-10T17:00:03.000Z</td>\n",
       "      <td>Eminem|\"Walk\"|\"On\"|\"Water\"|\"Aftermath/Shady/In...</td>\n",
       "      <td>17158579</td>\n",
       "      <td>787425</td>\n",
       "      <td>43420</td>\n",
       "      <td>125882</td>\n",
       "      <td>https://i.ytimg.com/vi/n1WpP7iowLc/default.jpg</td>\n",
       "      <td>False</td>\n",
       "      <td>False</td>\n",
       "      <td>False</td>\n",
       "      <td>Eminem's new track Walk on Water ft. Beyoncé i...</td>\n",
       "    </tr>\n",
       "    <tr>\n",
       "      <th>1</th>\n",
       "      <td>0dBIkQ4Mz1M</td>\n",
       "      <td>17.14.11</td>\n",
       "      <td>PLUSH - Bad Unboxing Fan Mail</td>\n",
       "      <td>iDubbbzTV</td>\n",
       "      <td>23</td>\n",
       "      <td>2017-11-13T17:00:00.000Z</td>\n",
       "      <td>plush|\"bad unboxing\"|\"unboxing\"|\"fan mail\"|\"id...</td>\n",
       "      <td>1014651</td>\n",
       "      <td>127794</td>\n",
       "      <td>1688</td>\n",
       "      <td>13030</td>\n",
       "      <td>https://i.ytimg.com/vi/0dBIkQ4Mz1M/default.jpg</td>\n",
       "      <td>False</td>\n",
       "      <td>False</td>\n",
       "      <td>False</td>\n",
       "      <td>STill got a lot of packages. Probably will las...</td>\n",
       "    </tr>\n",
       "    <tr>\n",
       "      <th>2</th>\n",
       "      <td>5qpjK5DgCt4</td>\n",
       "      <td>17.14.11</td>\n",
       "      <td>Racist Superman | Rudy Mancuso, King Bach &amp; Le...</td>\n",
       "      <td>Rudy Mancuso</td>\n",
       "      <td>23</td>\n",
       "      <td>2017-11-12T19:05:24.000Z</td>\n",
       "      <td>racist superman|\"rudy\"|\"mancuso\"|\"king\"|\"bach\"...</td>\n",
       "      <td>3191434</td>\n",
       "      <td>146035</td>\n",
       "      <td>5339</td>\n",
       "      <td>8181</td>\n",
       "      <td>https://i.ytimg.com/vi/5qpjK5DgCt4/default.jpg</td>\n",
       "      <td>False</td>\n",
       "      <td>False</td>\n",
       "      <td>False</td>\n",
       "      <td>WATCH MY PREVIOUS VIDEO ▶ \\n\\nSUBSCRIBE ► http...</td>\n",
       "    </tr>\n",
       "    <tr>\n",
       "      <th>3</th>\n",
       "      <td>d380meD0W0M</td>\n",
       "      <td>17.14.11</td>\n",
       "      <td>I Dare You: GOING BALD!?</td>\n",
       "      <td>nigahiga</td>\n",
       "      <td>24</td>\n",
       "      <td>2017-11-12T18:01:41.000Z</td>\n",
       "      <td>ryan|\"higa\"|\"higatv\"|\"nigahiga\"|\"i dare you\"|\"...</td>\n",
       "      <td>2095828</td>\n",
       "      <td>132239</td>\n",
       "      <td>1989</td>\n",
       "      <td>17518</td>\n",
       "      <td>https://i.ytimg.com/vi/d380meD0W0M/default.jpg</td>\n",
       "      <td>False</td>\n",
       "      <td>False</td>\n",
       "      <td>False</td>\n",
       "      <td>I know it's been a while since we did this sho...</td>\n",
       "    </tr>\n",
       "    <tr>\n",
       "      <th>4</th>\n",
       "      <td>2Vv-BfVoq4g</td>\n",
       "      <td>17.14.11</td>\n",
       "      <td>Ed Sheeran - Perfect (Official Music Video)</td>\n",
       "      <td>Ed Sheeran</td>\n",
       "      <td>10</td>\n",
       "      <td>2017-11-09T11:04:14.000Z</td>\n",
       "      <td>edsheeran|\"ed sheeran\"|\"acoustic\"|\"live\"|\"cove...</td>\n",
       "      <td>33523622</td>\n",
       "      <td>1634130</td>\n",
       "      <td>21082</td>\n",
       "      <td>85067</td>\n",
       "      <td>https://i.ytimg.com/vi/2Vv-BfVoq4g/default.jpg</td>\n",
       "      <td>False</td>\n",
       "      <td>False</td>\n",
       "      <td>False</td>\n",
       "      <td>🎧: https://ad.gt/yt-perfect\\n💰: https://atlant...</td>\n",
       "    </tr>\n",
       "  </tbody>\n",
       "</table>\n",
       "</div>"
      ],
      "text/plain": [
       "      video_id trending_date  \\\n",
       "0  n1WpP7iowLc      17.14.11   \n",
       "1  0dBIkQ4Mz1M      17.14.11   \n",
       "2  5qpjK5DgCt4      17.14.11   \n",
       "3  d380meD0W0M      17.14.11   \n",
       "4  2Vv-BfVoq4g      17.14.11   \n",
       "\n",
       "                                               title channel_title  \\\n",
       "0         Eminem - Walk On Water (Audio) ft. Beyoncé    EminemVEVO   \n",
       "1                      PLUSH - Bad Unboxing Fan Mail     iDubbbzTV   \n",
       "2  Racist Superman | Rudy Mancuso, King Bach & Le...  Rudy Mancuso   \n",
       "3                           I Dare You: GOING BALD!?      nigahiga   \n",
       "4        Ed Sheeran - Perfect (Official Music Video)    Ed Sheeran   \n",
       "\n",
       "   category_id              publish_time  \\\n",
       "0           10  2017-11-10T17:00:03.000Z   \n",
       "1           23  2017-11-13T17:00:00.000Z   \n",
       "2           23  2017-11-12T19:05:24.000Z   \n",
       "3           24  2017-11-12T18:01:41.000Z   \n",
       "4           10  2017-11-09T11:04:14.000Z   \n",
       "\n",
       "                                                tags     views    likes  \\\n",
       "0  Eminem|\"Walk\"|\"On\"|\"Water\"|\"Aftermath/Shady/In...  17158579   787425   \n",
       "1  plush|\"bad unboxing\"|\"unboxing\"|\"fan mail\"|\"id...   1014651   127794   \n",
       "2  racist superman|\"rudy\"|\"mancuso\"|\"king\"|\"bach\"...   3191434   146035   \n",
       "3  ryan|\"higa\"|\"higatv\"|\"nigahiga\"|\"i dare you\"|\"...   2095828   132239   \n",
       "4  edsheeran|\"ed sheeran\"|\"acoustic\"|\"live\"|\"cove...  33523622  1634130   \n",
       "\n",
       "   dislikes  comment_count                                  thumbnail_link  \\\n",
       "0     43420         125882  https://i.ytimg.com/vi/n1WpP7iowLc/default.jpg   \n",
       "1      1688          13030  https://i.ytimg.com/vi/0dBIkQ4Mz1M/default.jpg   \n",
       "2      5339           8181  https://i.ytimg.com/vi/5qpjK5DgCt4/default.jpg   \n",
       "3      1989          17518  https://i.ytimg.com/vi/d380meD0W0M/default.jpg   \n",
       "4     21082          85067  https://i.ytimg.com/vi/2Vv-BfVoq4g/default.jpg   \n",
       "\n",
       "   comments_disabled  ratings_disabled  video_error_or_removed  \\\n",
       "0              False             False                   False   \n",
       "1              False             False                   False   \n",
       "2              False             False                   False   \n",
       "3              False             False                   False   \n",
       "4              False             False                   False   \n",
       "\n",
       "                                         description  \n",
       "0  Eminem's new track Walk on Water ft. Beyoncé i...  \n",
       "1  STill got a lot of packages. Probably will las...  \n",
       "2  WATCH MY PREVIOUS VIDEO ▶ \\n\\nSUBSCRIBE ► http...  \n",
       "3  I know it's been a while since we did this sho...  \n",
       "4  🎧: https://ad.gt/yt-perfect\\n💰: https://atlant...  "
      ]
     },
     "execution_count": 42,
     "metadata": {},
     "output_type": "execute_result"
    }
   ],
   "source": [
    "df.head()"
   ]
  },
  {
   "cell_type": "markdown",
   "metadata": {},
   "source": [
    "####           - We have to convert the file from json to a df because the category id key is only inside the json file\n"
   ]
  },
  {
   "cell_type": "code",
   "execution_count": 6,
   "metadata": {
    "collapsed": true
   },
   "outputs": [],
   "source": [
    "file = 'Data/CA_category_id.json'\n",
    "with open(file) as train_file:\n",
    "    data = json.load(train_file)"
   ]
  },
  {
   "cell_type": "code",
   "execution_count": 7,
   "metadata": {
    "collapsed": true
   },
   "outputs": [],
   "source": [
    "#naming the datdframe \n",
    "df_review = pd.DataFrame()"
   ]
  },
  {
   "cell_type": "markdown",
   "metadata": {},
   "source": [
    "##### Reviewing the json file\n",
    "    - inside the json file the IDs are inside of a list called items \n",
    "    but the titles are inside of a sublist called title so we have\n",
    "    to convert it to a list in the data frame to extract the titles\n"
   ]
  },
  {
   "cell_type": "code",
   "execution_count": 8,
   "metadata": {
    "collapsed": true
   },
   "outputs": [],
   "source": [
    "CAT_ID = []\n",
    "for result in data['items']:\n",
    "    CAT_ID.append(result['id'])"
   ]
  },
  {
   "cell_type": "code",
   "execution_count": 9,
   "metadata": {
    "collapsed": true
   },
   "outputs": [],
   "source": [
    "CAT_Name=[]\n",
    "for result in data['items']:\n",
    "    CAT_Name.append(result['snippet']['title'])"
   ]
  },
  {
   "cell_type": "code",
   "execution_count": 10,
   "metadata": {
    "collapsed": true
   },
   "outputs": [],
   "source": [
    "df_review['category_id']=CAT_ID"
   ]
  },
  {
   "cell_type": "code",
   "execution_count": 11,
   "metadata": {
    "collapsed": true
   },
   "outputs": [],
   "source": [
    "df_review['category_name']=CAT_Name"
   ]
  },
  {
   "cell_type": "code",
   "execution_count": 12,
   "metadata": {
    "collapsed": true
   },
   "outputs": [],
   "source": [
    "df_review['category_id']=df_review.category_id.astype(int)"
   ]
  },
  {
   "cell_type": "code",
   "execution_count": 13,
   "metadata": {},
   "outputs": [
    {
     "data": {
      "text/html": [
       "<div>\n",
       "<style>\n",
       "    .dataframe thead tr:only-child th {\n",
       "        text-align: right;\n",
       "    }\n",
       "\n",
       "    .dataframe thead th {\n",
       "        text-align: left;\n",
       "    }\n",
       "\n",
       "    .dataframe tbody tr th {\n",
       "        vertical-align: top;\n",
       "    }\n",
       "</style>\n",
       "<table border=\"1\" class=\"dataframe\">\n",
       "  <thead>\n",
       "    <tr style=\"text-align: right;\">\n",
       "      <th></th>\n",
       "      <th>category_id</th>\n",
       "      <th>category_name</th>\n",
       "    </tr>\n",
       "  </thead>\n",
       "  <tbody>\n",
       "    <tr>\n",
       "      <th>0</th>\n",
       "      <td>1</td>\n",
       "      <td>Film &amp; Animation</td>\n",
       "    </tr>\n",
       "    <tr>\n",
       "      <th>1</th>\n",
       "      <td>2</td>\n",
       "      <td>Autos &amp; Vehicles</td>\n",
       "    </tr>\n",
       "    <tr>\n",
       "      <th>2</th>\n",
       "      <td>10</td>\n",
       "      <td>Music</td>\n",
       "    </tr>\n",
       "    <tr>\n",
       "      <th>3</th>\n",
       "      <td>15</td>\n",
       "      <td>Pets &amp; Animals</td>\n",
       "    </tr>\n",
       "    <tr>\n",
       "      <th>4</th>\n",
       "      <td>17</td>\n",
       "      <td>Sports</td>\n",
       "    </tr>\n",
       "  </tbody>\n",
       "</table>\n",
       "</div>"
      ],
      "text/plain": [
       "   category_id     category_name\n",
       "0            1  Film & Animation\n",
       "1            2  Autos & Vehicles\n",
       "2           10             Music\n",
       "3           15    Pets & Animals\n",
       "4           17            Sports"
      ]
     },
     "execution_count": 13,
     "metadata": {},
     "output_type": "execute_result"
    }
   ],
   "source": [
    "df_review.head()"
   ]
  },
  {
   "cell_type": "code",
   "execution_count": 14,
   "metadata": {},
   "outputs": [
    {
     "name": "stdout",
     "output_type": "stream",
     "text": [
      "<class 'pandas.core.frame.DataFrame'>\n",
      "RangeIndex: 31 entries, 0 to 30\n",
      "Data columns (total 2 columns):\n",
      "category_id      31 non-null int32\n",
      "category_name    31 non-null object\n",
      "dtypes: int32(1), object(1)\n",
      "memory usage: 452.0+ bytes\n"
     ]
    }
   ],
   "source": [
    "df_review.info()"
   ]
  },
  {
   "cell_type": "code",
   "execution_count": 43,
   "metadata": {
    "collapsed": true
   },
   "outputs": [],
   "source": [
    "# Next, we have to merge the json data with the df\n",
    "df=pd.merge(df, df_review, on=['category_id'])"
   ]
  },
  {
   "cell_type": "code",
   "execution_count": 44,
   "metadata": {},
   "outputs": [
    {
     "data": {
      "text/html": [
       "<div>\n",
       "<style>\n",
       "    .dataframe thead tr:only-child th {\n",
       "        text-align: right;\n",
       "    }\n",
       "\n",
       "    .dataframe thead th {\n",
       "        text-align: left;\n",
       "    }\n",
       "\n",
       "    .dataframe tbody tr th {\n",
       "        vertical-align: top;\n",
       "    }\n",
       "</style>\n",
       "<table border=\"1\" class=\"dataframe\">\n",
       "  <thead>\n",
       "    <tr style=\"text-align: right;\">\n",
       "      <th></th>\n",
       "      <th>video_id</th>\n",
       "      <th>trending_date</th>\n",
       "      <th>title</th>\n",
       "      <th>channel_title</th>\n",
       "      <th>category_id</th>\n",
       "      <th>publish_time</th>\n",
       "      <th>tags</th>\n",
       "      <th>views</th>\n",
       "      <th>likes</th>\n",
       "      <th>dislikes</th>\n",
       "      <th>comment_count</th>\n",
       "      <th>thumbnail_link</th>\n",
       "      <th>comments_disabled</th>\n",
       "      <th>ratings_disabled</th>\n",
       "      <th>video_error_or_removed</th>\n",
       "      <th>description</th>\n",
       "      <th>category_name</th>\n",
       "    </tr>\n",
       "  </thead>\n",
       "  <tbody>\n",
       "    <tr>\n",
       "      <th>0</th>\n",
       "      <td>n1WpP7iowLc</td>\n",
       "      <td>17.14.11</td>\n",
       "      <td>Eminem - Walk On Water (Audio) ft. Beyoncé</td>\n",
       "      <td>EminemVEVO</td>\n",
       "      <td>10</td>\n",
       "      <td>2017-11-10T17:00:03.000Z</td>\n",
       "      <td>Eminem|\"Walk\"|\"On\"|\"Water\"|\"Aftermath/Shady/In...</td>\n",
       "      <td>17158579</td>\n",
       "      <td>787425</td>\n",
       "      <td>43420</td>\n",
       "      <td>125882</td>\n",
       "      <td>https://i.ytimg.com/vi/n1WpP7iowLc/default.jpg</td>\n",
       "      <td>False</td>\n",
       "      <td>False</td>\n",
       "      <td>False</td>\n",
       "      <td>Eminem's new track Walk on Water ft. Beyoncé i...</td>\n",
       "      <td>Music</td>\n",
       "    </tr>\n",
       "    <tr>\n",
       "      <th>1</th>\n",
       "      <td>2Vv-BfVoq4g</td>\n",
       "      <td>17.14.11</td>\n",
       "      <td>Ed Sheeran - Perfect (Official Music Video)</td>\n",
       "      <td>Ed Sheeran</td>\n",
       "      <td>10</td>\n",
       "      <td>2017-11-09T11:04:14.000Z</td>\n",
       "      <td>edsheeran|\"ed sheeran\"|\"acoustic\"|\"live\"|\"cove...</td>\n",
       "      <td>33523622</td>\n",
       "      <td>1634130</td>\n",
       "      <td>21082</td>\n",
       "      <td>85067</td>\n",
       "      <td>https://i.ytimg.com/vi/2Vv-BfVoq4g/default.jpg</td>\n",
       "      <td>False</td>\n",
       "      <td>False</td>\n",
       "      <td>False</td>\n",
       "      <td>🎧: https://ad.gt/yt-perfect\\n💰: https://atlant...</td>\n",
       "      <td>Music</td>\n",
       "    </tr>\n",
       "  </tbody>\n",
       "</table>\n",
       "</div>"
      ],
      "text/plain": [
       "      video_id trending_date                                        title  \\\n",
       "0  n1WpP7iowLc      17.14.11   Eminem - Walk On Water (Audio) ft. Beyoncé   \n",
       "1  2Vv-BfVoq4g      17.14.11  Ed Sheeran - Perfect (Official Music Video)   \n",
       "\n",
       "  channel_title  category_id              publish_time  \\\n",
       "0    EminemVEVO           10  2017-11-10T17:00:03.000Z   \n",
       "1    Ed Sheeran           10  2017-11-09T11:04:14.000Z   \n",
       "\n",
       "                                                tags     views    likes  \\\n",
       "0  Eminem|\"Walk\"|\"On\"|\"Water\"|\"Aftermath/Shady/In...  17158579   787425   \n",
       "1  edsheeran|\"ed sheeran\"|\"acoustic\"|\"live\"|\"cove...  33523622  1634130   \n",
       "\n",
       "   dislikes  comment_count                                  thumbnail_link  \\\n",
       "0     43420         125882  https://i.ytimg.com/vi/n1WpP7iowLc/default.jpg   \n",
       "1     21082          85067  https://i.ytimg.com/vi/2Vv-BfVoq4g/default.jpg   \n",
       "\n",
       "   comments_disabled  ratings_disabled  video_error_or_removed  \\\n",
       "0              False             False                   False   \n",
       "1              False             False                   False   \n",
       "\n",
       "                                         description category_name  \n",
       "0  Eminem's new track Walk on Water ft. Beyoncé i...         Music  \n",
       "1  🎧: https://ad.gt/yt-perfect\\n💰: https://atlant...         Music  "
      ]
     },
     "execution_count": 44,
     "metadata": {},
     "output_type": "execute_result"
    }
   ],
   "source": [
    "df.head(2)"
   ]
  },
  {
   "cell_type": "code",
   "execution_count": 45,
   "metadata": {},
   "outputs": [
    {
     "name": "stdout",
     "output_type": "stream",
     "text": [
      "<class 'pandas.core.frame.DataFrame'>\n",
      "Int64Index: 15523 entries, 0 to 15522\n",
      "Data columns (total 17 columns):\n",
      "video_id                  15523 non-null object\n",
      "trending_date             15523 non-null object\n",
      "title                     15523 non-null object\n",
      "channel_title             15523 non-null object\n",
      "category_id               15523 non-null int64\n",
      "publish_time              15523 non-null object\n",
      "tags                      15523 non-null object\n",
      "views                     15523 non-null int64\n",
      "likes                     15523 non-null int64\n",
      "dislikes                  15523 non-null int64\n",
      "comment_count             15523 non-null int64\n",
      "thumbnail_link            15523 non-null object\n",
      "comments_disabled         15523 non-null bool\n",
      "ratings_disabled          15523 non-null bool\n",
      "video_error_or_removed    15523 non-null bool\n",
      "description               15033 non-null object\n",
      "category_name             15523 non-null object\n",
      "dtypes: bool(3), int64(5), object(9)\n",
      "memory usage: 1.8+ MB\n"
     ]
    }
   ],
   "source": [
    "df.info()"
   ]
  },
  {
   "cell_type": "code",
   "execution_count": 18,
   "metadata": {},
   "outputs": [
    {
     "data": {
      "text/html": [
       "<div>\n",
       "<style>\n",
       "    .dataframe thead tr:only-child th {\n",
       "        text-align: right;\n",
       "    }\n",
       "\n",
       "    .dataframe thead th {\n",
       "        text-align: left;\n",
       "    }\n",
       "\n",
       "    .dataframe tbody tr th {\n",
       "        vertical-align: top;\n",
       "    }\n",
       "</style>\n",
       "<table border=\"1\" class=\"dataframe\">\n",
       "  <thead>\n",
       "    <tr style=\"text-align: right;\">\n",
       "      <th></th>\n",
       "      <th>category_id</th>\n",
       "      <th>views</th>\n",
       "      <th>likes</th>\n",
       "      <th>dislikes</th>\n",
       "      <th>comment_count</th>\n",
       "    </tr>\n",
       "  </thead>\n",
       "  <tbody>\n",
       "    <tr>\n",
       "      <th>count</th>\n",
       "      <td>15523.000000</td>\n",
       "      <td>1.552300e+04</td>\n",
       "      <td>1.552300e+04</td>\n",
       "      <td>1.552300e+04</td>\n",
       "      <td>15523.000000</td>\n",
       "    </tr>\n",
       "    <tr>\n",
       "      <th>mean</th>\n",
       "      <td>20.745925</td>\n",
       "      <td>1.128207e+06</td>\n",
       "      <td>4.098747e+04</td>\n",
       "      <td>2.442997e+03</td>\n",
       "      <td>5347.292340</td>\n",
       "    </tr>\n",
       "    <tr>\n",
       "      <th>std</th>\n",
       "      <td>6.778177</td>\n",
       "      <td>3.671824e+06</td>\n",
       "      <td>1.309721e+05</td>\n",
       "      <td>2.879781e+04</td>\n",
       "      <td>22115.642785</td>\n",
       "    </tr>\n",
       "    <tr>\n",
       "      <th>min</th>\n",
       "      <td>1.000000</td>\n",
       "      <td>1.141000e+03</td>\n",
       "      <td>0.000000e+00</td>\n",
       "      <td>0.000000e+00</td>\n",
       "      <td>0.000000</td>\n",
       "    </tr>\n",
       "    <tr>\n",
       "      <th>25%</th>\n",
       "      <td>20.000000</td>\n",
       "      <td>1.422430e+05</td>\n",
       "      <td>2.098000e+03</td>\n",
       "      <td>1.010000e+02</td>\n",
       "      <td>415.000000</td>\n",
       "    </tr>\n",
       "    <tr>\n",
       "      <th>50%</th>\n",
       "      <td>24.000000</td>\n",
       "      <td>3.559010e+05</td>\n",
       "      <td>9.066000e+03</td>\n",
       "      <td>2.950000e+02</td>\n",
       "      <td>1342.000000</td>\n",
       "    </tr>\n",
       "    <tr>\n",
       "      <th>75%</th>\n",
       "      <td>24.000000</td>\n",
       "      <td>9.515185e+05</td>\n",
       "      <td>2.947200e+04</td>\n",
       "      <td>9.785000e+02</td>\n",
       "      <td>3924.000000</td>\n",
       "    </tr>\n",
       "    <tr>\n",
       "      <th>max</th>\n",
       "      <td>43.000000</td>\n",
       "      <td>1.378431e+08</td>\n",
       "      <td>3.014479e+06</td>\n",
       "      <td>1.602383e+06</td>\n",
       "      <td>827755.000000</td>\n",
       "    </tr>\n",
       "  </tbody>\n",
       "</table>\n",
       "</div>"
      ],
      "text/plain": [
       "        category_id         views         likes      dislikes  comment_count\n",
       "count  15523.000000  1.552300e+04  1.552300e+04  1.552300e+04   15523.000000\n",
       "mean      20.745925  1.128207e+06  4.098747e+04  2.442997e+03    5347.292340\n",
       "std        6.778177  3.671824e+06  1.309721e+05  2.879781e+04   22115.642785\n",
       "min        1.000000  1.141000e+03  0.000000e+00  0.000000e+00       0.000000\n",
       "25%       20.000000  1.422430e+05  2.098000e+03  1.010000e+02     415.000000\n",
       "50%       24.000000  3.559010e+05  9.066000e+03  2.950000e+02    1342.000000\n",
       "75%       24.000000  9.515185e+05  2.947200e+04  9.785000e+02    3924.000000\n",
       "max       43.000000  1.378431e+08  3.014479e+06  1.602383e+06  827755.000000"
      ]
     },
     "execution_count": 18,
     "metadata": {},
     "output_type": "execute_result"
    }
   ],
   "source": [
    "df.describe()"
   ]
  },
  {
   "cell_type": "markdown",
   "metadata": {},
   "source": [
    "## Interpreting the Data : most viewed by category"
   ]
  },
  {
   "cell_type": "code",
   "execution_count": 38,
   "metadata": {},
   "outputs": [
    {
     "data": {
      "text/plain": [
       "<matplotlib.axes._subplots.AxesSubplot at 0x17f14e731d0>"
      ]
     },
     "execution_count": 38,
     "metadata": {},
     "output_type": "execute_result"
    },
    {
     "data": {
      "image/png": "[encoded data removed]",
      "text/plain": [
       "<matplotlib.figure.Figure at 0x17f14fe1ac8>"
      ]
     },
     "metadata": {},
     "output_type": "display_data"
    }
   ],
   "source": [
    "df.groupby('category_name').likes.sum().nlargest(10).plot('bar')"
   ]
  },
  {
   "cell_type": "markdown",
   "metadata": {},
   "source": [
    "### most liked video (in category)"
   ]
  },
  {
   "cell_type": "code",
   "execution_count": 20,
   "metadata": {},
   "outputs": [
    {
     "data": {
      "text/plain": [
       "<matplotlib.axes._subplots.AxesSubplot at 0x17f1373b128>"
      ]
     },
     "execution_count": 20,
     "metadata": {},
     "output_type": "execute_result"
    },
    {
     "data": {
      "image/png": "[encoded data removed]",
      "text/plain": [
       "<matplotlib.figure.Figure at 0x17f12f36ef0>"
      ]
     },
     "metadata": {},
     "output_type": "display_data"
    }
   ],
   "source": [
    "# most viewed by video title\n",
    "df.groupby('title').likes.sum().nlargest(10).plot('bar')"
   ]
  },
  {
   "cell_type": "markdown",
   "metadata": {},
   "source": [
    "### most disliked video (in categories)"
   ]
  },
  {
   "cell_type": "code",
   "execution_count": 21,
   "metadata": {},
   "outputs": [
    {
     "data": {
      "text/plain": [
       "<matplotlib.axes._subplots.AxesSubplot at 0x17f13757518>"
      ]
     },
     "execution_count": 21,
     "metadata": {},
     "output_type": "execute_result"
    },
    {
     "data": {
      "image/png": "[encoded data removed]",
      "text/plain": [
       "<matplotlib.figure.Figure at 0x17f1379d908>"
      ]
     },
     "metadata": {},
     "output_type": "display_data"
    }
   ],
   "source": [
    "df.groupby('title').dislikes.sum().nlargest(10).plot('bar')"
   ]
  },
  {
   "cell_type": "markdown",
   "metadata": {},
   "source": [
    "### videos with the most comments (in categories)"
   ]
  },
  {
   "cell_type": "code",
   "execution_count": 22,
   "metadata": {},
   "outputs": [
    {
     "data": {
      "text/plain": [
       "<matplotlib.axes._subplots.AxesSubplot at 0x17f137b0668>"
      ]
     },
     "execution_count": 22,
     "metadata": {},
     "output_type": "execute_result"
    },
    {
     "data": {
      "image/png": "[encoded data removed]",
      "text/plain": [
       "<matplotlib.figure.Figure at 0x17f1381d048>"
      ]
     },
     "metadata": {},
     "output_type": "display_data"
    }
   ],
   "source": [
    "df.groupby('title').comment_count.sum().nlargest(10).plot('bar')"
   ]
  },
  {
   "cell_type": "code",
   "execution_count": 23,
   "metadata": {},
   "outputs": [
    {
     "data": {
      "text/plain": [
       "channel_title\n",
       "Marvel Entertainment    19631957\n",
       "YouTube Spotlight       16713032\n",
       "PewDiePie               15064025\n",
       "Ed Sheeran              13302039\n",
       "EminemVEVO              11804326\n",
       "Dude Perfect            11689397\n",
       "Logan Paul Vlogs        11229569\n",
       "ibighit                 10163340\n",
       "TaylorSwiftVEVO          9397847\n",
       "LuisFonsiVEVO            7925571\n",
       "Name: likes, dtype: int64"
      ]
     },
     "execution_count": 23,
     "metadata": {},
     "output_type": "execute_result"
    }
   ],
   "source": [
    "df.groupby('channel_title').likes.sum().nlargest(10)"
   ]
  },
  {
   "cell_type": "markdown",
   "metadata": {},
   "source": [
    "### Putting this all together"
   ]
  },
  {
   "cell_type": "code",
   "execution_count": 24,
   "metadata": {
    "collapsed": true
   },
   "outputs": [],
   "source": [
    "df['date']=pd.to_datetime(df.publish_time)"
   ]
  },
  {
   "cell_type": "code",
   "execution_count": 25,
   "metadata": {
    "collapsed": true
   },
   "outputs": [],
   "source": [
    "df['year']=df.date.dt.year"
   ]
  },
  {
   "cell_type": "code",
   "execution_count": 26,
   "metadata": {
    "collapsed": true
   },
   "outputs": [],
   "source": [
    "df['month']=df.date.dt.month"
   ]
  },
  {
   "cell_type": "code",
   "execution_count": 27,
   "metadata": {},
   "outputs": [
    {
     "data": {
      "text/html": [
       "<div>\n",
       "<style>\n",
       "    .dataframe thead tr:only-child th {\n",
       "        text-align: right;\n",
       "    }\n",
       "\n",
       "    .dataframe thead th {\n",
       "        text-align: left;\n",
       "    }\n",
       "\n",
       "    .dataframe tbody tr th {\n",
       "        vertical-align: top;\n",
       "    }\n",
       "</style>\n",
       "<table border=\"1\" class=\"dataframe\">\n",
       "  <thead>\n",
       "    <tr style=\"text-align: right;\">\n",
       "      <th></th>\n",
       "      <th></th>\n",
       "      <th>views</th>\n",
       "      <th>likes</th>\n",
       "      <th>dislikes</th>\n",
       "      <th>comment_count</th>\n",
       "    </tr>\n",
       "    <tr>\n",
       "      <th>year</th>\n",
       "      <th>month</th>\n",
       "      <th></th>\n",
       "      <th></th>\n",
       "      <th></th>\n",
       "      <th></th>\n",
       "    </tr>\n",
       "  </thead>\n",
       "  <tbody>\n",
       "    <tr>\n",
       "      <th rowspan=\"2\" valign=\"top\">2008</th>\n",
       "      <th>1</th>\n",
       "      <td>990040</td>\n",
       "      <td>2834</td>\n",
       "      <td>99</td>\n",
       "      <td>535</td>\n",
       "    </tr>\n",
       "    <tr>\n",
       "      <th>2</th>\n",
       "      <td>802735</td>\n",
       "      <td>5957</td>\n",
       "      <td>374</td>\n",
       "      <td>829</td>\n",
       "    </tr>\n",
       "    <tr>\n",
       "      <th>2009</th>\n",
       "      <th>2</th>\n",
       "      <td>264577</td>\n",
       "      <td>487</td>\n",
       "      <td>5</td>\n",
       "      <td>48</td>\n",
       "    </tr>\n",
       "    <tr>\n",
       "      <th>2010</th>\n",
       "      <th>1</th>\n",
       "      <td>1997620</td>\n",
       "      <td>14066</td>\n",
       "      <td>2050</td>\n",
       "      <td>932</td>\n",
       "    </tr>\n",
       "    <tr>\n",
       "      <th>2012</th>\n",
       "      <th>12</th>\n",
       "      <td>4057</td>\n",
       "      <td>3</td>\n",
       "      <td>1</td>\n",
       "      <td>6</td>\n",
       "    </tr>\n",
       "    <tr>\n",
       "      <th rowspan=\"4\" valign=\"top\">2013</th>\n",
       "      <th>3</th>\n",
       "      <td>114933</td>\n",
       "      <td>511</td>\n",
       "      <td>18</td>\n",
       "      <td>25</td>\n",
       "    </tr>\n",
       "    <tr>\n",
       "      <th>5</th>\n",
       "      <td>1166437</td>\n",
       "      <td>6374</td>\n",
       "      <td>297</td>\n",
       "      <td>530</td>\n",
       "    </tr>\n",
       "    <tr>\n",
       "      <th>7</th>\n",
       "      <td>2425211</td>\n",
       "      <td>12149</td>\n",
       "      <td>166</td>\n",
       "      <td>1121</td>\n",
       "    </tr>\n",
       "    <tr>\n",
       "      <th>11</th>\n",
       "      <td>280211</td>\n",
       "      <td>1639</td>\n",
       "      <td>33</td>\n",
       "      <td>116</td>\n",
       "    </tr>\n",
       "    <tr>\n",
       "      <th rowspan=\"5\" valign=\"top\">2014</th>\n",
       "      <th>1</th>\n",
       "      <td>552665</td>\n",
       "      <td>3108</td>\n",
       "      <td>99</td>\n",
       "      <td>343</td>\n",
       "    </tr>\n",
       "    <tr>\n",
       "      <th>2</th>\n",
       "      <td>261544</td>\n",
       "      <td>471</td>\n",
       "      <td>34</td>\n",
       "      <td>40</td>\n",
       "    </tr>\n",
       "    <tr>\n",
       "      <th>9</th>\n",
       "      <td>107331</td>\n",
       "      <td>206</td>\n",
       "      <td>5</td>\n",
       "      <td>8</td>\n",
       "    </tr>\n",
       "    <tr>\n",
       "      <th>11</th>\n",
       "      <td>7889</td>\n",
       "      <td>220</td>\n",
       "      <td>0</td>\n",
       "      <td>3</td>\n",
       "    </tr>\n",
       "    <tr>\n",
       "      <th>12</th>\n",
       "      <td>787752</td>\n",
       "      <td>1488</td>\n",
       "      <td>135</td>\n",
       "      <td>62</td>\n",
       "    </tr>\n",
       "    <tr>\n",
       "      <th rowspan=\"4\" valign=\"top\">2015</th>\n",
       "      <th>4</th>\n",
       "      <td>103148</td>\n",
       "      <td>351</td>\n",
       "      <td>13</td>\n",
       "      <td>27</td>\n",
       "    </tr>\n",
       "    <tr>\n",
       "      <th>9</th>\n",
       "      <td>152397</td>\n",
       "      <td>452</td>\n",
       "      <td>20</td>\n",
       "      <td>42</td>\n",
       "    </tr>\n",
       "    <tr>\n",
       "      <th>10</th>\n",
       "      <td>133924</td>\n",
       "      <td>3251</td>\n",
       "      <td>47</td>\n",
       "      <td>441</td>\n",
       "    </tr>\n",
       "    <tr>\n",
       "      <th>12</th>\n",
       "      <td>24576</td>\n",
       "      <td>93</td>\n",
       "      <td>4</td>\n",
       "      <td>7</td>\n",
       "    </tr>\n",
       "    <tr>\n",
       "      <th rowspan=\"5\" valign=\"top\">2016</th>\n",
       "      <th>3</th>\n",
       "      <td>409514</td>\n",
       "      <td>405</td>\n",
       "      <td>37</td>\n",
       "      <td>224</td>\n",
       "    </tr>\n",
       "    <tr>\n",
       "      <th>9</th>\n",
       "      <td>317040</td>\n",
       "      <td>1778</td>\n",
       "      <td>48</td>\n",
       "      <td>162</td>\n",
       "    </tr>\n",
       "    <tr>\n",
       "      <th>10</th>\n",
       "      <td>158564</td>\n",
       "      <td>724</td>\n",
       "      <td>16</td>\n",
       "      <td>98</td>\n",
       "    </tr>\n",
       "    <tr>\n",
       "      <th>11</th>\n",
       "      <td>362002</td>\n",
       "      <td>2368</td>\n",
       "      <td>103</td>\n",
       "      <td>107</td>\n",
       "    </tr>\n",
       "    <tr>\n",
       "      <th>12</th>\n",
       "      <td>16921</td>\n",
       "      <td>187</td>\n",
       "      <td>0</td>\n",
       "      <td>5</td>\n",
       "    </tr>\n",
       "    <tr>\n",
       "      <th rowspan=\"7\" valign=\"top\">2017</th>\n",
       "      <th>4</th>\n",
       "      <td>766826</td>\n",
       "      <td>24408</td>\n",
       "      <td>562</td>\n",
       "      <td>1535</td>\n",
       "    </tr>\n",
       "    <tr>\n",
       "      <th>5</th>\n",
       "      <td>944521</td>\n",
       "      <td>6819</td>\n",
       "      <td>139</td>\n",
       "      <td>323</td>\n",
       "    </tr>\n",
       "    <tr>\n",
       "      <th>8</th>\n",
       "      <td>1246732</td>\n",
       "      <td>15566</td>\n",
       "      <td>558</td>\n",
       "      <td>1356</td>\n",
       "    </tr>\n",
       "    <tr>\n",
       "      <th>9</th>\n",
       "      <td>7466832</td>\n",
       "      <td>194857</td>\n",
       "      <td>3432</td>\n",
       "      <td>7889</td>\n",
       "    </tr>\n",
       "    <tr>\n",
       "      <th>10</th>\n",
       "      <td>30758</td>\n",
       "      <td>4</td>\n",
       "      <td>5</td>\n",
       "      <td>7</td>\n",
       "    </tr>\n",
       "    <tr>\n",
       "      <th>11</th>\n",
       "      <td>4789458215</td>\n",
       "      <td>173205722</td>\n",
       "      <td>8256920</td>\n",
       "      <td>21853135</td>\n",
       "    </tr>\n",
       "    <tr>\n",
       "      <th>12</th>\n",
       "      <td>7390739009</td>\n",
       "      <td>270927528</td>\n",
       "      <td>20848455</td>\n",
       "      <td>35734087</td>\n",
       "    </tr>\n",
       "    <tr>\n",
       "      <th>2018</th>\n",
       "      <th>1</th>\n",
       "      <td>5311069087</td>\n",
       "      <td>191814471</td>\n",
       "      <td>8808961</td>\n",
       "      <td>25401976</td>\n",
       "    </tr>\n",
       "  </tbody>\n",
       "</table>\n",
       "</div>"
      ],
      "text/plain": [
       "                 views      likes  dislikes  comment_count\n",
       "year month                                                \n",
       "2008 1          990040       2834        99            535\n",
       "     2          802735       5957       374            829\n",
       "2009 2          264577        487         5             48\n",
       "2010 1         1997620      14066      2050            932\n",
       "2012 12           4057          3         1              6\n",
       "2013 3          114933        511        18             25\n",
       "     5         1166437       6374       297            530\n",
       "     7         2425211      12149       166           1121\n",
       "     11         280211       1639        33            116\n",
       "2014 1          552665       3108        99            343\n",
       "     2          261544        471        34             40\n",
       "     9          107331        206         5              8\n",
       "     11           7889        220         0              3\n",
       "     12         787752       1488       135             62\n",
       "2015 4          103148        351        13             27\n",
       "     9          152397        452        20             42\n",
       "     10         133924       3251        47            441\n",
       "     12          24576         93         4              7\n",
       "2016 3          409514        405        37            224\n",
       "     9          317040       1778        48            162\n",
       "     10         158564        724        16             98\n",
       "     11         362002       2368       103            107\n",
       "     12          16921        187         0              5\n",
       "2017 4          766826      24408       562           1535\n",
       "     5          944521       6819       139            323\n",
       "     8         1246732      15566       558           1356\n",
       "     9         7466832     194857      3432           7889\n",
       "     10          30758          4         5              7\n",
       "     11     4789458215  173205722   8256920       21853135\n",
       "     12     7390739009  270927528  20848455       35734087\n",
       "2018 1      5311069087  191814471   8808961       25401976"
      ]
     },
     "execution_count": 27,
     "metadata": {},
     "output_type": "execute_result"
    }
   ],
   "source": [
    "df.groupby(['year', 'month'])['views','likes','dislikes','comment_count'].sum()"
   ]
  },
  {
   "cell_type": "code",
   "execution_count": 28,
   "metadata": {},
   "outputs": [
    {
     "data": {
      "text/plain": [
       "<matplotlib.axes._subplots.AxesSubplot at 0x17f137b5d68>"
      ]
     },
     "execution_count": 28,
     "metadata": {},
     "output_type": "execute_result"
    },
    {
     "data": {
      "image/png": "[encoded data removed]",
      "text/plain": [
       "<matplotlib.figure.Figure at 0x17f139bbf28>"
      ]
     },
     "metadata": {},
     "output_type": "display_data"
    }
   ],
   "source": [
    "df.groupby('title').dislikes.sum().nlargest(10).plot('bar')"
   ]
  },
  {
   "cell_type": "code",
   "execution_count": 29,
   "metadata": {},
   "outputs": [
    {
     "data": {
      "text/plain": [
       "<matplotlib.collections.PathCollection at 0x17f14fd2d68>"
      ]
     },
     "execution_count": 29,
     "metadata": {},
     "output_type": "execute_result"
    },
    {
     "data": {
      "image/png": "[encoded data removed]",
      "text/plain": [
       "<matplotlib.figure.Figure at 0x17f14e3fa58>"
      ]
     },
     "metadata": {},
     "output_type": "display_data"
    }
   ],
   "source": [
    "plt.scatter(df.views, df.likes)"
   ]
  },
  {
   "cell_type": "code",
   "execution_count": 30,
   "metadata": {},
   "outputs": [
    {
     "data": {
      "text/html": [
       "<div>\n",
       "<style>\n",
       "    .dataframe thead tr:only-child th {\n",
       "        text-align: right;\n",
       "    }\n",
       "\n",
       "    .dataframe thead th {\n",
       "        text-align: left;\n",
       "    }\n",
       "\n",
       "    .dataframe tbody tr th {\n",
       "        vertical-align: top;\n",
       "    }\n",
       "</style>\n",
       "<table border=\"1\" class=\"dataframe\">\n",
       "  <thead>\n",
       "    <tr style=\"text-align: right;\">\n",
       "      <th></th>\n",
       "      <th>category_id</th>\n",
       "      <th>views</th>\n",
       "      <th>likes</th>\n",
       "      <th>dislikes</th>\n",
       "      <th>comment_count</th>\n",
       "      <th>comments_disabled</th>\n",
       "      <th>ratings_disabled</th>\n",
       "      <th>video_error_or_removed</th>\n",
       "      <th>year</th>\n",
       "      <th>month</th>\n",
       "    </tr>\n",
       "  </thead>\n",
       "  <tbody>\n",
       "    <tr>\n",
       "      <th>category_id</th>\n",
       "      <td>1.000000</td>\n",
       "      <td>-0.115277</td>\n",
       "      <td>-0.125639</td>\n",
       "      <td>-0.011265</td>\n",
       "      <td>-0.048675</td>\n",
       "      <td>0.024767</td>\n",
       "      <td>0.015364</td>\n",
       "      <td>0.005273</td>\n",
       "      <td>0.003545</td>\n",
       "      <td>0.006861</td>\n",
       "    </tr>\n",
       "    <tr>\n",
       "      <th>views</th>\n",
       "      <td>-0.115277</td>\n",
       "      <td>1.000000</td>\n",
       "      <td>0.877770</td>\n",
       "      <td>0.646967</td>\n",
       "      <td>0.790904</td>\n",
       "      <td>-0.011011</td>\n",
       "      <td>-0.012713</td>\n",
       "      <td>-0.001973</td>\n",
       "      <td>-0.029262</td>\n",
       "      <td>0.037255</td>\n",
       "    </tr>\n",
       "    <tr>\n",
       "      <th>likes</th>\n",
       "      <td>-0.125639</td>\n",
       "      <td>0.877770</td>\n",
       "      <td>1.000000</td>\n",
       "      <td>0.508076</td>\n",
       "      <td>0.824501</td>\n",
       "      <td>-0.022246</td>\n",
       "      <td>-0.026559</td>\n",
       "      <td>0.001687</td>\n",
       "      <td>-0.029272</td>\n",
       "      <td>0.039519</td>\n",
       "    </tr>\n",
       "    <tr>\n",
       "      <th>dislikes</th>\n",
       "      <td>-0.011265</td>\n",
       "      <td>0.646967</td>\n",
       "      <td>0.508076</td>\n",
       "      <td>1.000000</td>\n",
       "      <td>0.769564</td>\n",
       "      <td>-0.004988</td>\n",
       "      <td>-0.007200</td>\n",
       "      <td>-0.000946</td>\n",
       "      <td>-0.018791</td>\n",
       "      <td>0.024249</td>\n",
       "    </tr>\n",
       "    <tr>\n",
       "      <th>comment_count</th>\n",
       "      <td>-0.048675</td>\n",
       "      <td>0.790904</td>\n",
       "      <td>0.824501</td>\n",
       "      <td>0.769564</td>\n",
       "      <td>1.000000</td>\n",
       "      <td>-0.027764</td>\n",
       "      <td>-0.016485</td>\n",
       "      <td>-0.000396</td>\n",
       "      <td>-0.020537</td>\n",
       "      <td>0.028640</td>\n",
       "    </tr>\n",
       "    <tr>\n",
       "      <th>comments_disabled</th>\n",
       "      <td>0.024767</td>\n",
       "      <td>-0.011011</td>\n",
       "      <td>-0.022246</td>\n",
       "      <td>-0.004988</td>\n",
       "      <td>-0.027764</td>\n",
       "      <td>1.000000</td>\n",
       "      <td>0.104942</td>\n",
       "      <td>-0.002439</td>\n",
       "      <td>0.017803</td>\n",
       "      <td>-0.018247</td>\n",
       "    </tr>\n",
       "    <tr>\n",
       "      <th>ratings_disabled</th>\n",
       "      <td>0.015364</td>\n",
       "      <td>-0.012713</td>\n",
       "      <td>-0.026559</td>\n",
       "      <td>-0.007200</td>\n",
       "      <td>-0.016485</td>\n",
       "      <td>0.104942</td>\n",
       "      <td>1.000000</td>\n",
       "      <td>-0.001803</td>\n",
       "      <td>-0.011344</td>\n",
       "      <td>0.015133</td>\n",
       "    </tr>\n",
       "    <tr>\n",
       "      <th>video_error_or_removed</th>\n",
       "      <td>0.005273</td>\n",
       "      <td>-0.001973</td>\n",
       "      <td>0.001687</td>\n",
       "      <td>-0.000946</td>\n",
       "      <td>-0.000396</td>\n",
       "      <td>-0.002439</td>\n",
       "      <td>-0.001803</td>\n",
       "      <td>1.000000</td>\n",
       "      <td>0.019824</td>\n",
       "      <td>-0.021557</td>\n",
       "    </tr>\n",
       "    <tr>\n",
       "      <th>year</th>\n",
       "      <td>0.003545</td>\n",
       "      <td>-0.029262</td>\n",
       "      <td>-0.029272</td>\n",
       "      <td>-0.018791</td>\n",
       "      <td>-0.020537</td>\n",
       "      <td>0.017803</td>\n",
       "      <td>-0.011344</td>\n",
       "      <td>0.019824</td>\n",
       "      <td>1.000000</td>\n",
       "      <td>-0.870895</td>\n",
       "    </tr>\n",
       "    <tr>\n",
       "      <th>month</th>\n",
       "      <td>0.006861</td>\n",
       "      <td>0.037255</td>\n",
       "      <td>0.039519</td>\n",
       "      <td>0.024249</td>\n",
       "      <td>0.028640</td>\n",
       "      <td>-0.018247</td>\n",
       "      <td>0.015133</td>\n",
       "      <td>-0.021557</td>\n",
       "      <td>-0.870895</td>\n",
       "      <td>1.000000</td>\n",
       "    </tr>\n",
       "  </tbody>\n",
       "</table>\n",
       "</div>"
      ],
      "text/plain": [
       "                        category_id     views     likes  dislikes  \\\n",
       "category_id                1.000000 -0.115277 -0.125639 -0.011265   \n",
       "views                     -0.115277  1.000000  0.877770  0.646967   \n",
       "likes                     -0.125639  0.877770  1.000000  0.508076   \n",
       "dislikes                  -0.011265  0.646967  0.508076  1.000000   \n",
       "comment_count             -0.048675  0.790904  0.824501  0.769564   \n",
       "comments_disabled          0.024767 -0.011011 -0.022246 -0.004988   \n",
       "ratings_disabled           0.015364 -0.012713 -0.026559 -0.007200   \n",
       "video_error_or_removed     0.005273 -0.001973  0.001687 -0.000946   \n",
       "year                       0.003545 -0.029262 -0.029272 -0.018791   \n",
       "month                      0.006861  0.037255  0.039519  0.024249   \n",
       "\n",
       "                        comment_count  comments_disabled  ratings_disabled  \\\n",
       "category_id                 -0.048675           0.024767          0.015364   \n",
       "views                        0.790904          -0.011011         -0.012713   \n",
       "likes                        0.824501          -0.022246         -0.026559   \n",
       "dislikes                     0.769564          -0.004988         -0.007200   \n",
       "comment_count                1.000000          -0.027764         -0.016485   \n",
       "comments_disabled           -0.027764           1.000000          0.104942   \n",
       "ratings_disabled            -0.016485           0.104942          1.000000   \n",
       "video_error_or_removed      -0.000396          -0.002439         -0.001803   \n",
       "year                        -0.020537           0.017803         -0.011344   \n",
       "month                        0.028640          -0.018247          0.015133   \n",
       "\n",
       "                        video_error_or_removed      year     month  \n",
       "category_id                           0.005273  0.003545  0.006861  \n",
       "views                                -0.001973 -0.029262  0.037255  \n",
       "likes                                 0.001687 -0.029272  0.039519  \n",
       "dislikes                             -0.000946 -0.018791  0.024249  \n",
       "comment_count                        -0.000396 -0.020537  0.028640  \n",
       "comments_disabled                    -0.002439  0.017803 -0.018247  \n",
       "ratings_disabled                     -0.001803 -0.011344  0.015133  \n",
       "video_error_or_removed                1.000000  0.019824 -0.021557  \n",
       "year                                  0.019824  1.000000 -0.870895  \n",
       "month                                -0.021557 -0.870895  1.000000  "
      ]
     },
     "execution_count": 30,
     "metadata": {},
     "output_type": "execute_result"
    }
   ],
   "source": []
  },
  {
   "cell_type": "code",
   "execution_count": 46,
   "metadata": {
    "scrolled": true
   },
   "outputs": [],
   "source": [
    "df['music']=df.category_name.apply(lambda x: 1 if x == 'Music' else 0)"
   ]
  },
  {
   "cell_type": "code",
   "execution_count": 47,
   "metadata": {
    "collapsed": true
   },
   "outputs": [],
   "source": [
    "df['entertainment']=df.category_name.apply(lambda x: 1 if x == 'Entertainment' else 0)"
   ]
  },
  {
   "cell_type": "code",
   "execution_count": 51,
   "metadata": {
    "collapsed": true
   },
   "outputs": [],
   "source": [
    "df['TaylorSwiftVEVO']=df.channel_title.apply(lambda x: 1 if x == 'TaylorSwiftVEVO' else 0)\n",
    "          "
   ]
  },
  {
   "cell_type": "code",
   "execution_count": 52,
   "metadata": {
    "scrolled": true
   },
   "outputs": [
    {
     "data": {
      "text/html": [
       "<div>\n",
       "<style>\n",
       "    .dataframe thead tr:only-child th {\n",
       "        text-align: right;\n",
       "    }\n",
       "\n",
       "    .dataframe thead th {\n",
       "        text-align: left;\n",
       "    }\n",
       "\n",
       "    .dataframe tbody tr th {\n",
       "        vertical-align: top;\n",
       "    }\n",
       "</style>\n",
       "<table border=\"1\" class=\"dataframe\">\n",
       "  <thead>\n",
       "    <tr style=\"text-align: right;\">\n",
       "      <th></th>\n",
       "      <th>category_id</th>\n",
       "      <th>views</th>\n",
       "      <th>likes</th>\n",
       "      <th>dislikes</th>\n",
       "      <th>comment_count</th>\n",
       "      <th>comments_disabled</th>\n",
       "      <th>ratings_disabled</th>\n",
       "      <th>video_error_or_removed</th>\n",
       "      <th>music</th>\n",
       "      <th>entertainment</th>\n",
       "      <th>TaylorSwiftVEVO</th>\n",
       "    </tr>\n",
       "  </thead>\n",
       "  <tbody>\n",
       "    <tr>\n",
       "      <th>category_id</th>\n",
       "      <td>1.000000</td>\n",
       "      <td>-0.115277</td>\n",
       "      <td>-0.125639</td>\n",
       "      <td>-0.011265</td>\n",
       "      <td>-0.048675</td>\n",
       "      <td>0.024767</td>\n",
       "      <td>0.015364</td>\n",
       "      <td>0.005273</td>\n",
       "      <td>-0.504634</td>\n",
       "      <td>0.326842</td>\n",
       "      <td>-0.033675</td>\n",
       "    </tr>\n",
       "    <tr>\n",
       "      <th>views</th>\n",
       "      <td>-0.115277</td>\n",
       "      <td>1.000000</td>\n",
       "      <td>0.877770</td>\n",
       "      <td>0.646967</td>\n",
       "      <td>0.790904</td>\n",
       "      <td>-0.011011</td>\n",
       "      <td>-0.012713</td>\n",
       "      <td>-0.001973</td>\n",
       "      <td>0.202488</td>\n",
       "      <td>-0.004575</td>\n",
       "      <td>0.144970</td>\n",
       "    </tr>\n",
       "    <tr>\n",
       "      <th>likes</th>\n",
       "      <td>-0.125639</td>\n",
       "      <td>0.877770</td>\n",
       "      <td>1.000000</td>\n",
       "      <td>0.508076</td>\n",
       "      <td>0.824501</td>\n",
       "      <td>-0.022246</td>\n",
       "      <td>-0.026559</td>\n",
       "      <td>0.001687</td>\n",
       "      <td>0.247779</td>\n",
       "      <td>-0.034909</td>\n",
       "      <td>0.211086</td>\n",
       "    </tr>\n",
       "    <tr>\n",
       "      <th>dislikes</th>\n",
       "      <td>-0.011265</td>\n",
       "      <td>0.646967</td>\n",
       "      <td>0.508076</td>\n",
       "      <td>1.000000</td>\n",
       "      <td>0.769564</td>\n",
       "      <td>-0.004988</td>\n",
       "      <td>-0.007200</td>\n",
       "      <td>-0.000946</td>\n",
       "      <td>0.038722</td>\n",
       "      <td>0.015882</td>\n",
       "      <td>0.050458</td>\n",
       "    </tr>\n",
       "    <tr>\n",
       "      <th>comment_count</th>\n",
       "      <td>-0.048675</td>\n",
       "      <td>0.790904</td>\n",
       "      <td>0.824501</td>\n",
       "      <td>0.769564</td>\n",
       "      <td>1.000000</td>\n",
       "      <td>-0.027764</td>\n",
       "      <td>-0.016485</td>\n",
       "      <td>-0.000396</td>\n",
       "      <td>0.104952</td>\n",
       "      <td>0.000045</td>\n",
       "      <td>0.104471</td>\n",
       "    </tr>\n",
       "    <tr>\n",
       "      <th>comments_disabled</th>\n",
       "      <td>0.024767</td>\n",
       "      <td>-0.011011</td>\n",
       "      <td>-0.022246</td>\n",
       "      <td>-0.004988</td>\n",
       "      <td>-0.027764</td>\n",
       "      <td>1.000000</td>\n",
       "      <td>0.104942</td>\n",
       "      <td>-0.002439</td>\n",
       "      <td>-0.003112</td>\n",
       "      <td>-0.010963</td>\n",
       "      <td>-0.002439</td>\n",
       "    </tr>\n",
       "    <tr>\n",
       "      <th>ratings_disabled</th>\n",
       "      <td>0.015364</td>\n",
       "      <td>-0.012713</td>\n",
       "      <td>-0.026559</td>\n",
       "      <td>-0.007200</td>\n",
       "      <td>-0.016485</td>\n",
       "      <td>0.104942</td>\n",
       "      <td>1.000000</td>\n",
       "      <td>-0.001803</td>\n",
       "      <td>-0.003204</td>\n",
       "      <td>0.004680</td>\n",
       "      <td>-0.001803</td>\n",
       "    </tr>\n",
       "    <tr>\n",
       "      <th>video_error_or_removed</th>\n",
       "      <td>0.005273</td>\n",
       "      <td>-0.001973</td>\n",
       "      <td>0.001687</td>\n",
       "      <td>-0.000946</td>\n",
       "      <td>-0.000396</td>\n",
       "      <td>-0.002439</td>\n",
       "      <td>-0.001803</td>\n",
       "      <td>1.000000</td>\n",
       "      <td>-0.006761</td>\n",
       "      <td>0.005108</td>\n",
       "      <td>-0.000451</td>\n",
       "    </tr>\n",
       "    <tr>\n",
       "      <th>music</th>\n",
       "      <td>-0.504634</td>\n",
       "      <td>0.202488</td>\n",
       "      <td>0.247779</td>\n",
       "      <td>0.038722</td>\n",
       "      <td>0.104952</td>\n",
       "      <td>-0.003112</td>\n",
       "      <td>-0.003204</td>\n",
       "      <td>-0.006761</td>\n",
       "      <td>1.000000</td>\n",
       "      <td>-0.216691</td>\n",
       "      <td>0.066731</td>\n",
       "    </tr>\n",
       "    <tr>\n",
       "      <th>entertainment</th>\n",
       "      <td>0.326842</td>\n",
       "      <td>-0.004575</td>\n",
       "      <td>-0.034909</td>\n",
       "      <td>0.015882</td>\n",
       "      <td>0.000045</td>\n",
       "      <td>-0.010963</td>\n",
       "      <td>0.004680</td>\n",
       "      <td>0.005108</td>\n",
       "      <td>-0.216691</td>\n",
       "      <td>1.000000</td>\n",
       "      <td>-0.014460</td>\n",
       "    </tr>\n",
       "    <tr>\n",
       "      <th>TaylorSwiftVEVO</th>\n",
       "      <td>-0.033675</td>\n",
       "      <td>0.144970</td>\n",
       "      <td>0.211086</td>\n",
       "      <td>0.050458</td>\n",
       "      <td>0.104471</td>\n",
       "      <td>-0.002439</td>\n",
       "      <td>-0.001803</td>\n",
       "      <td>-0.000451</td>\n",
       "      <td>0.066731</td>\n",
       "      <td>-0.014460</td>\n",
       "      <td>1.000000</td>\n",
       "    </tr>\n",
       "  </tbody>\n",
       "</table>\n",
       "</div>"
      ],
      "text/plain": [
       "                        category_id     views     likes  dislikes  \\\n",
       "category_id                1.000000 -0.115277 -0.125639 -0.011265   \n",
       "views                     -0.115277  1.000000  0.877770  0.646967   \n",
       "likes                     -0.125639  0.877770  1.000000  0.508076   \n",
       "dislikes                  -0.011265  0.646967  0.508076  1.000000   \n",
       "comment_count             -0.048675  0.790904  0.824501  0.769564   \n",
       "comments_disabled          0.024767 -0.011011 -0.022246 -0.004988   \n",
       "ratings_disabled           0.015364 -0.012713 -0.026559 -0.007200   \n",
       "video_error_or_removed     0.005273 -0.001973  0.001687 -0.000946   \n",
       "music                     -0.504634  0.202488  0.247779  0.038722   \n",
       "entertainment              0.326842 -0.004575 -0.034909  0.015882   \n",
       "TaylorSwiftVEVO           -0.033675  0.144970  0.211086  0.050458   \n",
       "\n",
       "                        comment_count  comments_disabled  ratings_disabled  \\\n",
       "category_id                 -0.048675           0.024767          0.015364   \n",
       "views                        0.790904          -0.011011         -0.012713   \n",
       "likes                        0.824501          -0.022246         -0.026559   \n",
       "dislikes                     0.769564          -0.004988         -0.007200   \n",
       "comment_count                1.000000          -0.027764         -0.016485   \n",
       "comments_disabled           -0.027764           1.000000          0.104942   \n",
       "ratings_disabled            -0.016485           0.104942          1.000000   \n",
       "video_error_or_removed      -0.000396          -0.002439         -0.001803   \n",
       "music                        0.104952          -0.003112         -0.003204   \n",
       "entertainment                0.000045          -0.010963          0.004680   \n",
       "TaylorSwiftVEVO              0.104471          -0.002439         -0.001803   \n",
       "\n",
       "                        video_error_or_removed     music  entertainment  \\\n",
       "category_id                           0.005273 -0.504634       0.326842   \n",
       "views                                -0.001973  0.202488      -0.004575   \n",
       "likes                                 0.001687  0.247779      -0.034909   \n",
       "dislikes                             -0.000946  0.038722       0.015882   \n",
       "comment_count                        -0.000396  0.104952       0.000045   \n",
       "comments_disabled                    -0.002439 -0.003112      -0.010963   \n",
       "ratings_disabled                     -0.001803 -0.003204       0.004680   \n",
       "video_error_or_removed                1.000000 -0.006761       0.005108   \n",
       "music                                -0.006761  1.000000      -0.216691   \n",
       "entertainment                         0.005108 -0.216691       1.000000   \n",
       "TaylorSwiftVEVO                      -0.000451  0.066731      -0.014460   \n",
       "\n",
       "                        TaylorSwiftVEVO  \n",
       "category_id                   -0.033675  \n",
       "views                          0.144970  \n",
       "likes                          0.211086  \n",
       "dislikes                       0.050458  \n",
       "comment_count                  0.104471  \n",
       "comments_disabled             -0.002439  \n",
       "ratings_disabled              -0.001803  \n",
       "video_error_or_removed        -0.000451  \n",
       "music                          0.066731  \n",
       "entertainment                 -0.014460  \n",
       "TaylorSwiftVEVO                1.000000  "
      ]
     },
     "execution_count": 52,
     "metadata": {},
     "output_type": "execute_result"
    }
   ],
   "source": [
    "df.corr()"
   ]
  },
  {
   "cell_type": "code",
   "execution_count": 53,
   "metadata": {},
   "outputs": [
    {
     "data": {
      "text/plain": [
       "<matplotlib.axes._subplots.AxesSubplot at 0x17f15383d30>"
      ]
     },
     "execution_count": 53,
     "metadata": {},
     "output_type": "execute_result"
    },
    {
     "data": {
      "image/png": "[encoded data removed]",
      "text/plain": [
       "<matplotlib.figure.Figure at 0x17f15765550>"
      ]
     },
     "metadata": {},
     "output_type": "display_data"
    }
   ],
   "source": [
    "sns.heatmap(df.corr())"
   ]
  },
  {
   "cell_type": "markdown",
   "metadata": {},
   "source": [
    "# Text Analysis of Data"
   ]
  },
  {
   "cell_type": "markdown",
   "metadata": {},
   "source": [
    "## Key Findings:\n",
    "####       1. Music & Entertainment are the most popular viewed videos on YouTubeCA\n",
    "####       2. The video \"The Shape of You\" was the most liked, disliked and \n",
    "#### comments counted were all the same. This goes to show publicity\n",
    "#### whether good or bad is still good for business.\n",
    "####       3. Also, we can see that as time progressed YouTube has become a \n",
    "#### trusted SEO for especially Music & Entertainment videos."
   ]
  },
  {
   "cell_type": "markdown",
   "metadata": {
    "collapsed": true
   },
   "source": [
    " ### Next Steps:\n",
    " ####    1. Compare YouTube Canada to USA views for 2017\n",
    " ####    2. Collect data after one year for 2017\n",
    "####     3. After 5 years review the data again to see if lesser searched  \n",
    "#### categories increases based of of world views and interests."
   ]
  },
  {
   "cell_type": "code",
   "execution_count": null,
   "metadata": {
    "collapsed": true
   },
   "outputs": [],
   "source": []
  }
 ],
 "metadata": {
  "kernelspec": {
   "display_name": "Python 3",
   "language": "python",
   "name": "python3"
  },
  "language_info": {
   "codemirror_mode": {
    "name": "ipython",
    "version": 3
   },
   "file_extension": ".py",
   "mimetype": "text/x-python",
   "name": "python",
   "nbconvert_exporter": "python",
   "pygments_lexer": "ipython3",
   "version": "3.6.3"
  }
 },
 "nbformat": 4,
 "nbformat_minor": 2
}
